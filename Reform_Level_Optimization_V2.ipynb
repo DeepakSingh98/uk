{
  "nbformat": 4,
  "nbformat_minor": 0,
  "metadata": {
    "colab": {
      "name": "Reform Level Optimization V2.ipynb",
      "provenance": [],
      "collapsed_sections": []
    },
    "kernelspec": {
      "name": "python3",
      "display_name": "Python 3"
    }
  },
  "cells": [
    {
      "cell_type": "code",
      "metadata": {
        "id": "TLKfx4iG98DY"
      },
      "source": [
        "# Required imports.\r\n",
        "from uk.py import calc_ubi\r\n",
        "from uk.py.loss_functions import loss_metrics\r\n",
        "from uk.py.optimize import optimize"
      ],
      "execution_count": 1,
      "outputs": []
    },
    {
      "cell_type": "code",
      "metadata": {
        "colab": {
          "base_uri": "https://localhost:8080/"
        },
        "id": "IpjEW-rk-C-G",
        "outputId": "5803e353-d811-485c-86c8-c4031250ad40"
      },
      "source": [
        "CATEGORIES = ['senior', 'child', 'dis_1', 'dis_2', 'dis_3','NORTH_EAST', 'NORTH_WEST', \r\n",
        "                'YORKSHIRE', 'EAST_MIDLANDS', 'WEST_MIDLANDS', 'EAST_OF_ENGLAND', 'LONDON', \r\n",
        "                'SOUTH_EAST', 'SOUTH_WEST', 'WALES', 'SCOTLAND', 'NORTHERN_IRELAND']\r\n",
        "\r\n",
        "# Define bounds\r\n",
        "limits = [(40, 240)] * 2\r\n",
        "limits += [(0, 40)] * 3\r\n",
        "limits += [(-30, 45)] * 12\r\n",
        "\r\n",
        "input_dict = {category : limit for category, limit in zip(CATEGORIES, limits)}\r\n",
        "print (input_dict)"
      ],
      "execution_count": 2,
      "outputs": [
        {
          "output_type": "stream",
          "text": [
            "{'senior': (40, 240), 'child': (40, 240), 'dis_1': (0, 40), 'dis_2': (0, 40), 'dis_3': (0, 40), 'NORTH_EAST': (-30, 45), 'NORTH_WEST': (-30, 45), 'YORKSHIRE': (-30, 45), 'EAST_MIDLANDS': (-30, 45), 'WEST_MIDLANDS': (-30, 45), 'EAST_OF_ENGLAND': (-30, 45), 'LONDON': (-30, 45), 'SOUTH_EAST': (-30, 45), 'SOUTH_WEST': (-30, 45), 'WALES': (-30, 45), 'SCOTLAND': (-30, 45), 'NORTHERN_IRELAND': (-30, 45)}\n"
          ],
          "name": "stdout"
        }
      ]
    },
    {
      "cell_type": "code",
      "metadata": {
        "id": "0g86Bkwf-RJH"
      },
      "source": [
        "reform_1 = optimize(input_dict, 'mean_pct_loss', 'reform_1', print_output=False, maxiter=20, seed=0)"
      ],
      "execution_count": 5,
      "outputs": []
    },
    {
      "cell_type": "code",
      "metadata": {
        "colab": {
          "base_uri": "https://localhost:8080/"
        },
        "id": "8_Q-m1OBACTG",
        "outputId": "481dac0c-1026-4e65-dcf0-a74dc545a9c0"
      },
      "source": [
        "print (reform_1)"
      ],
      "execution_count": 6,
      "outputs": [
        {
          "output_type": "stream",
          "text": [
            "     fun: 0.04514430918332308\n",
            " message: 'Optimization terminated successfully.'\n",
            "    nfev: 2194\n",
            "     nit: 8\n",
            " success: True\n",
            "       x: array([203.74310054, 121.87753932,  67.27751096,   0.        ,\n",
            "         0.        ,   0.        ,   0.        ,   0.        ,\n",
            "         0.        ,   0.        ,   0.        ,   0.        ,\n",
            "         0.        ,   0.        ,   0.        ,   0.        ,\n",
            "         0.        ])\n"
          ],
          "name": "stdout"
        }
      ]
    },
    {
      "cell_type": "code",
      "metadata": {
        "id": "T0-cLB1PKK5o"
      },
      "source": [
        "reform_2 = optimize(input_dict, 'mean_pct_loss', 'reform_2', print_output=False, maxiter=20, seed=0)"
      ],
      "execution_count": 7,
      "outputs": []
    },
    {
      "cell_type": "code",
      "metadata": {
        "colab": {
          "base_uri": "https://localhost:8080/"
        },
        "id": "i3JGWZD9UYi0",
        "outputId": "1340cf02-3040-4469-e254-4effa79a92a9"
      },
      "source": [
        "print (reform_2)"
      ],
      "execution_count": 8,
      "outputs": [
        {
          "output_type": "stream",
          "text": [
            "     fun: 0.045027480245458\n",
            " message: 'Optimization terminated successfully.'\n",
            "    nfev: 2434\n",
            "     nit: 9\n",
            " success: True\n",
            "       x: array([200.87838278, 122.06603939,  66.80088886,   1.56447922,\n",
            "         1.23659734,  39.65273602,   0.        ,   0.        ,\n",
            "         0.        ,   0.        ,   0.        ,   0.        ,\n",
            "         0.        ,   0.        ,   0.        ,   0.        ,\n",
            "         0.        ])\n"
          ],
          "name": "stdout"
        }
      ]
    },
    {
      "cell_type": "code",
      "metadata": {
        "id": "ofIfMhuMUVOy"
      },
      "source": [
        "reform_3 = optimize(input_dict, 'mean_pct_loss', 'reform_3', print_output=False, maxiter=20, seed=0)"
      ],
      "execution_count": 9,
      "outputs": []
    },
    {
      "cell_type": "code",
      "metadata": {
        "colab": {
          "base_uri": "https://localhost:8080/"
        },
        "id": "An660nE2Ualk",
        "outputId": "18803c9c-b55d-4a7e-f84d-108febfc3abc"
      },
      "source": [
        "print (reform_3)"
      ],
      "execution_count": 10,
      "outputs": [
        {
          "output_type": "stream",
          "text": [
            "     fun: 0.043346409647196806\n",
            "     jac: array([-2.94139479e-06, -1.64646061e-05,  1.43982048e-05,  9.93649525e-06,\n",
            "        9.11770584e-07, -4.08908984e-06, -8.47238876e-07, -6.37406741e-06,\n",
            "       -1.72292721e-06,  4.51305622e-06, -4.81906142e-06, -6.10622613e-06,\n",
            "       -9.97882250e-06, -6.54268252e-06, -3.00315303e-06, -1.24969469e-06,\n",
            "       -1.46757594e-06])\n",
            " message: 'Optimization terminated successfully.'\n",
            "    nfev: 3606\n",
            "     nit: 13\n",
            " success: True\n",
            "       x: array([179.55312599, 107.46586006,  59.59981796,   0.89266674,\n",
            "        18.0537006 ,  21.8938061 ,  29.43638159,  39.32199806,\n",
            "        26.65024254,  36.58720569,  41.61073486,  29.8639384 ,\n",
            "        38.22590848,  28.15654307,  33.27519486,  26.80777875,\n",
            "        35.11527741,  19.59678672])\n"
          ],
          "name": "stdout"
        }
      ]
    },
    {
      "cell_type": "code",
      "metadata": {
        "id": "g6GKInZqUheZ"
      },
      "source": [
        ""
      ],
      "execution_count": null,
      "outputs": []
    }
  ]
}