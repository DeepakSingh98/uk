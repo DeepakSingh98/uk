{
 "cells": [
  {
   "cell_type": "code",
   "execution_count": 3,
   "metadata": {
    "id": "TLKfx4iG98DY"
   },
   "outputs": [],
   "source": [
    "# Required imports.\n",
    "from py import calc_ubi\n",
    "from py.loss_functions import loss_metrics\n",
    "from py.optimize import optimize"
   ]
  },
  {
   "cell_type": "code",
   "execution_count": 4,
   "metadata": {
    "colab": {
     "base_uri": "https://localhost:8080/"
    },
    "id": "IpjEW-rk-C-G",
    "outputId": "a25bcdef-6b01-4139-ad78-695ace3943f3"
   },
   "outputs": [
    {
     "name": "stdout",
     "output_type": "stream",
     "text": [
      "{'senior': (40, 240), 'child': (40, 240), 'dis_1': (0, 40), 'dis_2': (0, 40), 'dis_3': (0, 40), 'NORTH_EAST': (-50, 50), 'NORTH_WEST': (-50, 50), 'YORKSHIRE': (-50, 50), 'EAST_MIDLANDS': (-50, 50), 'WEST_MIDLANDS': (-50, 50), 'EAST_OF_ENGLAND': (-50, 50), 'LONDON': (-50, 50), 'SOUTH_EAST': (-50, 50), 'SOUTH_WEST': (-50, 50), 'WALES': (-50, 50), 'SCOTLAND': (-50, 50), 'NORTHERN_IRELAND': (-50, 50)}\n"
     ]
    }
   ],
   "source": [
    "CATEGORIES = ['senior', 'child', 'dis_1', 'dis_2', 'dis_3',\n",
    "              'NORTH_EAST', 'NORTH_WEST', 'YORKSHIRE', 'EAST_MIDLANDS',\n",
    "              'WEST_MIDLANDS', 'EAST_OF_ENGLAND', 'LONDON', 'SOUTH_EAST',\n",
    "              'SOUTH_WEST', 'WALES', 'SCOTLAND', 'NORTHERN_IRELAND']\n",
    "\n",
    "# Define bounds\n",
    "BASE_LIMITS = (40, 240)  # Child, working-age adult, senior.\n",
    "PWD_LIMITS = (0, 40)  # Base, severe, and enhanced disability UBI supplements.\n",
    "GEO_LIMITS = (-50, 50)  # Will be relative to a baseline geo.\n",
    "# Skip adult which is calculated.\n",
    "limits = [BASE_LIMITS] * 2 + [PWD_LIMITS] * 3 + [GEO_LIMITS] * 12\n",
    "\n",
    "input_dict = {category : limit for category, limit in zip(CATEGORIES, limits)}\n",
    "print (input_dict)"
   ]
  },
  {
   "cell_type": "code",
   "execution_count": 3,
   "metadata": {
    "colab": {
     "base_uri": "https://localhost:8080/"
    },
    "id": "US_TgMgmmrRX",
    "outputId": "65fe601b-0015-4b79-8bb5-e47d25af0fb9"
   },
   "outputs": [
    {
     "name": "stdout",
     "output_type": "stream",
     "text": [
      "Loss by all metrics:\n",
      " {'loser_share': 0.6975026726722717, 'losses': 334394909892.4331, 'mean_pct_loss': 0.14865339127720534, 'mean_pct_loss_pwd2': 0.15597915914702018, 'gini': 0.35033826974172055} \n",
      "\n",
      "Optimal mean_pct_loss: 0.14865339127720534 \n",
      "\n",
      "Optimal solution:\n",
      " {'adult': 112.3977144696208, 'senior': 67.2834146046814, 'child': 41.527183204623284, 'dis_1': 0.0, 'dis_2': 0.0, 'dis_3': 0.0, 'NORTH_EAST': 0.0, 'NORTH_WEST': 0.0, 'YORKSHIRE': 0.0, 'EAST_MIDLANDS': 0.0, 'WEST_MIDLANDS': 0.0, 'EAST_OF_ENGLAND': 0.0, 'LONDON': 0.0, 'SOUTH_EAST': 0.0, 'SOUTH_WEST': 0.0, 'WALES': 0.0, 'SCOTLAND': 0.0}\n"
     ]
    }
   ],
   "source": [
    "reform_1 = optimize(input_dict, 'mean_pct_loss', 'reform_1',\n",
    "                    path=\"~/frs\", verbose=False, maxiter=3, seed=0)"
   ]
  },
  {
   "cell_type": "code",
   "execution_count": 6,
   "metadata": {
    "colab": {
     "base_uri": "https://localhost:8080/"
    },
    "id": "qRSjlPlexKSi",
    "outputId": "29866ff3-68f0-44d7-971b-8030a02cbce0"
   },
   "outputs": [
    {
     "name": "stdout",
     "output_type": "stream",
     "text": [
      "{'adult': 112.3977144696208, 'senior': 67.2834146046814, 'child': 41.527183204623284, 'dis_1': 0.0, 'dis_2': 0.0, 'dis_3': 0.0, 'NORTH_EAST': 0.0, 'NORTH_WEST': 0.0, 'YORKSHIRE': 0.0, 'EAST_MIDLANDS': 0.0, 'WEST_MIDLANDS': 0.0, 'EAST_OF_ENGLAND': 0.0, 'LONDON': 0.0, 'SOUTH_EAST': 0.0, 'SOUTH_WEST': 0.0, 'WALES': 0.0, 'SCOTLAND': 0.0}\n"
     ]
    }
   ],
   "source": [
    "print(reform_1[1])"
   ]
  },
  {
   "cell_type": "code",
   "execution_count": 3,
   "metadata": {
    "colab": {
     "base_uri": "https://localhost:8080/"
    },
    "id": "T0-cLB1PKK5o",
    "outputId": "8d0d68cb-3bea-46f1-a363-52450f677b15"
   },
   "outputs": [
    {
     "name": "stdout",
     "output_type": "stream",
     "text": [
      "Optimal solution:\n",
      " {'adult': 122.06603939026651, 'senior': 200.87838278012745, 'child': 66.80088886294556, 'dis_1': 1.5644792172054878, 'dis_2': 1.2365973378051258, 'dis_3': 39.65273602389124, 'NORTH_EAST': 0.0, 'NORTH_WEST': 0.0, 'YORKSHIRE': 0.0, 'EAST_MIDLANDS': 0.0, 'WEST_MIDLANDS': 0.0, 'EAST_OF_ENGLAND': 0.0, 'LONDON': 0.0, 'SOUTH_EAST': 0.0, 'SOUTH_WEST': 0.0, 'WALES': 0.0, 'SCOTLAND': 0.0}\n"
     ]
    }
   ],
   "source": [
    "reform_2 = optimize(input_dict, 'mean_pct_loss', 'reform_2', \n",
    "                    path=\"~/frs\", verbose=False, maxiter=3, seed=0)"
   ]
  },
  {
   "cell_type": "code",
   "execution_count": 4,
   "metadata": {
    "colab": {
     "base_uri": "https://localhost:8080/"
    },
    "id": "i3JGWZD9UYi0",
    "outputId": "f55ed8fb-6f23-45a4-ce47-1713ad07fce8"
   },
   "outputs": [
    {
     "name": "stdout",
     "output_type": "stream",
     "text": [
      "     fun: 0.045027480245458\n",
      " message: 'Optimization terminated successfully.'\n",
      "    nfev: 2434\n",
      "     nit: 9\n",
      " success: True\n",
      "       x: array([122.06603939, 200.87838278,  66.80088886,   1.56447922,\n",
      "         1.23659734,  39.65273602,   0.        ,   0.        ,\n",
      "         0.        ,   0.        ,   0.        ,   0.        ,\n",
      "         0.        ,   0.        ,   0.        ,   0.        ,\n",
      "         0.        ])\n"
     ]
    }
   ],
   "source": [
    "print(reform_2)"
   ]
  },
  {
   "cell_type": "code",
   "execution_count": 5,
   "metadata": {
    "colab": {
     "base_uri": "https://localhost:8080/"
    },
    "id": "ofIfMhuMUVOy",
    "outputId": "8ff83e5b-0a48-446f-cd6d-3a9c5200ab93"
   },
   "outputs": [
    {
     "name": "stdout",
     "output_type": "stream",
     "text": [
      "Loss by all metrics:\n",
      " {'loser_share': 0.6743279099464417, 'losses': 300220312574.99084, 'mean_pct_loss': 0.12720953955277528, 'mean_pct_loss_pwd2': 0.13293044189874656, 'gini': 0.3355859215697418} \n",
      "\n",
      "Optimal mean_pct_loss: 0.12720953955277528 \n",
      "\n",
      "Optimal solution:\n",
      " {'adult': 76.0, 'senior': 67.0, 'child': -4.0, 'dis_1': 10.0, 'dis_2': 15.0, 'dis_3': 32.0, 'NORTH_EAST': 69.0, 'NORTH_WEST': 53.0, 'YORKSHIRE': 4.0, 'EAST_MIDLANDS': 43.0, 'WEST_MIDLANDS': 14.0, 'EAST_OF_ENGLAND': 4.0, 'LONDON': 0.0, 'SOUTH_EAST': 2.0, 'SOUTH_WEST': 36.0, 'WALES': 75.0, 'SCOTLAND': 30.0, 'NORTHERN_IRELAND': 47.0}\n"
     ]
    }
   ],
   "source": [
    "reform_3 = optimize(input_dict, 'mean_pct_loss', 'reform_3', \n",
    "                    path=\"~/frs\", verbose=False, maxiter=3, seed=0)"
   ]
  },
  {
   "cell_type": "code",
   "execution_count": 6,
   "metadata": {
    "colab": {
     "base_uri": "https://localhost:8080/"
    },
    "id": "An660nE2Ualk",
    "outputId": "496c6cc4-ebc5-4364-b37e-d717c610dcb6"
   },
   "outputs": [
    {
     "name": "stdout",
     "output_type": "stream",
     "text": [
      "(     fun: 0.12720953955277528\n",
      " message: 'Maximum number of iterations has been exceeded.'\n",
      "    nfev: 1056\n",
      "     nit: 3\n",
      " success: False\n",
      "       x: array([113.10541549,  42.7588631 ,  10.2973779 ,  14.56952096,\n",
      "        32.46084356,  22.7377949 ,   6.35592679, -42.32567727,\n",
      "        -3.71559536, -32.01613193, -42.34914662, -46.50216368,\n",
      "       -44.44585169, -10.20011831,  28.2382696 , -16.40991764,\n",
      "         0.        ]), {'adult': 76.0, 'senior': 67.0, 'child': -4.0, 'dis_1': 10.0, 'dis_2': 15.0, 'dis_3': 32.0, 'NORTH_EAST': 69.0, 'NORTH_WEST': 53.0, 'YORKSHIRE': 4.0, 'EAST_MIDLANDS': 43.0, 'WEST_MIDLANDS': 14.0, 'EAST_OF_ENGLAND': 4.0, 'LONDON': 0.0, 'SOUTH_EAST': 2.0, 'SOUTH_WEST': 36.0, 'WALES': 75.0, 'SCOTLAND': 30.0, 'NORTHERN_IRELAND': 47.0})\n"
     ]
    }
   ],
   "source": [
    "print(reform_3)"
   ]
  },
  {
   "cell_type": "code",
   "execution_count": 10,
   "metadata": {},
   "outputs": [],
   "source": [
    "x = reform_3[1]"
   ]
  },
  {
   "cell_type": "code",
   "execution_count": 13,
   "metadata": {},
   "outputs": [
    {
     "data": {
      "text/plain": [
       "-46.502163680884436"
      ]
     },
     "execution_count": 13,
     "metadata": {},
     "output_type": "execute_result"
    }
   ],
   "source": [
    "min(x.values())"
   ]
  },
  {
   "cell_type": "code",
   "execution_count": 16,
   "metadata": {},
   "outputs": [
    {
     "data": {
      "text/plain": [
       "-46.502163680884436"
      ]
     },
     "execution_count": 16,
     "metadata": {},
     "output_type": "execute_result"
    }
   ],
   "source": [
    "min(reform_3[0].x)"
   ]
  },
  {
   "cell_type": "code",
   "execution_count": 17,
   "metadata": {},
   "outputs": [
    {
     "data": {
      "text/plain": [
       "range(3, 10)"
      ]
     },
     "execution_count": 17,
     "metadata": {},
     "output_type": "execute_result"
    }
   ],
   "source": [
    "range(3, 10)"
   ]
  }
 ],
 "metadata": {
  "colab": {
   "collapsed_sections": [],
   "name": "Reform Level Optimization V3.ipynb",
   "provenance": []
  },
  "kernelspec": {
   "display_name": "Python 3",
   "language": "python",
   "name": "python3"
  },
  "language_info": {
   "codemirror_mode": {
    "name": "ipython",
    "version": 3
   },
   "file_extension": ".py",
   "mimetype": "text/x-python",
   "name": "python",
   "nbconvert_exporter": "python",
   "pygments_lexer": "ipython3",
   "version": "3.7.9"
  }
 },
 "nbformat": 4,
 "nbformat_minor": 1
}
