{
 "cells": [
  {
   "cell_type": "code",
   "execution_count": 1,
   "metadata": {
    "id": "TLKfx4iG98DY"
   },
   "outputs": [],
   "source": [
    "# Required imports.\n",
    "from py import calc_ubi\n",
    "from py.loss_functions import loss_metrics\n",
    "from py.optimize import optimize"
   ]
  },
  {
   "cell_type": "code",
   "execution_count": 2,
   "metadata": {
    "colab": {
     "base_uri": "https://localhost:8080/"
    },
    "id": "IpjEW-rk-C-G",
    "outputId": "a25bcdef-6b01-4139-ad78-695ace3943f3"
   },
   "outputs": [
    {
     "name": "stdout",
     "output_type": "stream",
     "text": [
      "{'senior': (40, 240), 'child': (40, 240), 'dis_1': (0, 40), 'dis_2': (0, 40), 'dis_3': (0, 40), 'NORTH_EAST': (-50, 50), 'NORTH_WEST': (-50, 50), 'YORKSHIRE': (-50, 50), 'EAST_MIDLANDS': (-50, 50), 'WEST_MIDLANDS': (-50, 50), 'EAST_OF_ENGLAND': (-50, 50), 'LONDON': (-50, 50), 'SOUTH_EAST': (-50, 50), 'SOUTH_WEST': (-50, 50), 'WALES': (-50, 50), 'SCOTLAND': (-50, 50), 'NORTHERN_IRELAND': (-50, 50)}\n"
     ]
    }
   ],
   "source": [
    "CATEGORIES = ['senior', 'child', 'dis_1', 'dis_2', 'dis_3',\n",
    "              'NORTH_EAST', 'NORTH_WEST', 'YORKSHIRE', 'EAST_MIDLANDS',\n",
    "              'WEST_MIDLANDS', 'EAST_OF_ENGLAND', 'LONDON', 'SOUTH_EAST',\n",
    "              'SOUTH_WEST', 'WALES', 'SCOTLAND', 'NORTHERN_IRELAND']\n",
    "\n",
    "# Define bounds\n",
    "BASE_LIMITS = (40, 240)\n",
    "PWD_LIMITS = (0, 40)\n",
    "GEO_LIMITS = (-50, 50)\n",
    "limits = [BASE_LIMITS] * 2 + [PWD_LIMITS] * 3 + [GEO_LIMITS] * 12\n",
    "\n",
    "input_dict = {category : limit for category, limit in zip(CATEGORIES, limits)}\n",
    "print (input_dict)"
   ]
  },
  {
   "cell_type": "code",
   "execution_count": 3,
   "metadata": {
    "colab": {
     "base_uri": "https://localhost:8080/"
    },
    "id": "US_TgMgmmrRX",
    "outputId": "65fe601b-0015-4b79-8bb5-e47d25af0fb9"
   },
   "outputs": [
    {
     "ename": "ValueError",
     "evalue": "Unexpected attributes in definition of variable \"basic_income\": 'ubi_piece'",
     "output_type": "error",
     "traceback": [
      "\u001b[0;31m---------------------------------------------------------------------------\u001b[0m",
      "\u001b[0;31mValueError\u001b[0m                                Traceback (most recent call last)",
      "\u001b[0;32m<ipython-input-3-5c5284c4b898>\u001b[0m in \u001b[0;36m<module>\u001b[0;34m\u001b[0m\n\u001b[1;32m      1\u001b[0m verbose_reform_1 = optimize(input_dict, 'mean_pct_loss', 'reform_1',\n\u001b[0;32m----> 2\u001b[0;31m                             path=\"~/frs\", verbose=True, maxiter=20, seed=0)\n\u001b[0m",
      "\u001b[0;32m~/UBICenter/uk/py/optimize.py\u001b[0m in \u001b[0;36moptimize\u001b[0;34m(input_dict, loss_metric, reform, verbose, path, **kwargs)\u001b[0m\n\u001b[1;32m     66\u001b[0m         \u001b[0mbounds\u001b[0m \u001b[0;34m=\u001b[0m \u001b[0;34m[\u001b[0m\u001b[0minput_dict\u001b[0m\u001b[0;34m[\u001b[0m\u001b[0mi\u001b[0m\u001b[0;34m]\u001b[0m \u001b[0;32mfor\u001b[0m \u001b[0mi\u001b[0m \u001b[0;32min\u001b[0m \u001b[0mCATEGORIES\u001b[0m\u001b[0;34m]\u001b[0m\u001b[0;34m\u001b[0m\u001b[0;34m\u001b[0m\u001b[0m\n\u001b[1;32m     67\u001b[0m \u001b[0;34m\u001b[0m\u001b[0m\n\u001b[0;32m---> 68\u001b[0;31m     \u001b[0mbaseline_df\u001b[0m\u001b[0;34m,\u001b[0m \u001b[0mreform_base_df\u001b[0m\u001b[0;34m,\u001b[0m \u001b[0mbudget\u001b[0m \u001b[0;34m=\u001b[0m \u001b[0mget_data\u001b[0m\u001b[0;34m(\u001b[0m\u001b[0mpath\u001b[0m\u001b[0;34m=\u001b[0m\u001b[0mpath\u001b[0m\u001b[0;34m)\u001b[0m\u001b[0;34m\u001b[0m\u001b[0;34m\u001b[0m\u001b[0m\n\u001b[0m\u001b[1;32m     69\u001b[0m \u001b[0;34m\u001b[0m\u001b[0m\n\u001b[1;32m     70\u001b[0m     \u001b[0;31m# Take the average value of each tuple to create array of starting values\u001b[0m\u001b[0;34m\u001b[0m\u001b[0;34m\u001b[0m\u001b[0;34m\u001b[0m\u001b[0m\n",
      "\u001b[0;32m~/UBICenter/uk/py/calc_ubi.py\u001b[0m in \u001b[0;36mget_data\u001b[0;34m(path)\u001b[0m\n\u001b[1;32m    204\u001b[0m     \u001b[0mFRS_DATA\u001b[0m \u001b[0;34m=\u001b[0m \u001b[0;34m(\u001b[0m\u001b[0mperson\u001b[0m\u001b[0;34m,\u001b[0m \u001b[0mbenunit\u001b[0m\u001b[0;34m,\u001b[0m \u001b[0mhousehold\u001b[0m\u001b[0;34m)\u001b[0m\u001b[0;34m\u001b[0m\u001b[0;34m\u001b[0m\u001b[0m\n\u001b[1;32m    205\u001b[0m     \u001b[0mreform_no_ubi\u001b[0m \u001b[0;34m=\u001b[0m \u001b[0mubi_reform\u001b[0m\u001b[0;34m(\u001b[0m\u001b[0;36m0\u001b[0m\u001b[0;34m,\u001b[0m \u001b[0;36m0\u001b[0m\u001b[0;34m,\u001b[0m \u001b[0;36m0\u001b[0m\u001b[0;34m,\u001b[0m \u001b[0;36m0\u001b[0m\u001b[0;34m,\u001b[0m \u001b[0;36m0\u001b[0m\u001b[0;34m,\u001b[0m \u001b[0;36m0\u001b[0m\u001b[0;34m,\u001b[0m \u001b[0mnp\u001b[0m\u001b[0;34m.\u001b[0m\u001b[0marray\u001b[0m\u001b[0;34m(\u001b[0m\u001b[0;34m[\u001b[0m\u001b[0;36m0\u001b[0m\u001b[0;34m]\u001b[0m \u001b[0;34m*\u001b[0m \u001b[0;36m12\u001b[0m\u001b[0;34m)\u001b[0m\u001b[0;34m)\u001b[0m\u001b[0;34m\u001b[0m\u001b[0;34m\u001b[0m\u001b[0m\n\u001b[0;32m--> 206\u001b[0;31m     \u001b[0mreform_no_ubi_sim\u001b[0m \u001b[0;34m=\u001b[0m \u001b[0mPopulationSim\u001b[0m\u001b[0;34m(\u001b[0m\u001b[0mreform_no_ubi\u001b[0m\u001b[0;34m,\u001b[0m \u001b[0mfrs_data\u001b[0m\u001b[0;34m=\u001b[0m\u001b[0mFRS_DATA\u001b[0m\u001b[0;34m)\u001b[0m\u001b[0;34m\u001b[0m\u001b[0;34m\u001b[0m\u001b[0m\n\u001b[0m\u001b[1;32m    207\u001b[0m     reform_base_df = calc2df(\n\u001b[1;32m    208\u001b[0m         \u001b[0mreform_no_ubi_sim\u001b[0m\u001b[0;34m,\u001b[0m \u001b[0mBASELINE_COLS\u001b[0m\u001b[0;34m,\u001b[0m \u001b[0mmap_to\u001b[0m\u001b[0;34m=\u001b[0m\u001b[0;34m\"household\"\u001b[0m\u001b[0;34m\u001b[0m\u001b[0;34m\u001b[0m\u001b[0m\n",
      "\u001b[0;32m~/anaconda3/lib/python3.7/site-packages/openfisca_uk/tools/simulation.py\u001b[0m in \u001b[0;36m__init__\u001b[0;34m(self, frs_data, input_period, *reforms)\u001b[0m\n\u001b[1;32m    167\u001b[0m         \u001b[0mself\u001b[0m\u001b[0;34m.\u001b[0m\u001b[0mreforms\u001b[0m \u001b[0;34m=\u001b[0m \u001b[0mreforms\u001b[0m\u001b[0;34m\u001b[0m\u001b[0;34m\u001b[0m\u001b[0m\n\u001b[1;32m    168\u001b[0m         \u001b[0mself\u001b[0m\u001b[0;34m.\u001b[0m\u001b[0minput_period\u001b[0m \u001b[0;34m=\u001b[0m \u001b[0minput_period\u001b[0m\u001b[0;34m\u001b[0m\u001b[0;34m\u001b[0m\u001b[0m\n\u001b[0;32m--> 169\u001b[0;31m         \u001b[0mself\u001b[0m\u001b[0;34m.\u001b[0m\u001b[0mmodel\u001b[0m \u001b[0;34m=\u001b[0m \u001b[0mself\u001b[0m\u001b[0;34m.\u001b[0m\u001b[0mload_frs\u001b[0m\u001b[0;34m(\u001b[0m\u001b[0mfrs_data\u001b[0m\u001b[0;34m=\u001b[0m\u001b[0mfrs_data\u001b[0m\u001b[0;34m)\u001b[0m\u001b[0;34m\u001b[0m\u001b[0;34m\u001b[0m\u001b[0m\n\u001b[0m\u001b[1;32m    170\u001b[0m         \u001b[0mself\u001b[0m\u001b[0;34m.\u001b[0m\u001b[0mvariable_graph\u001b[0m \u001b[0;34m=\u001b[0m \u001b[0mVariableGraph\u001b[0m\u001b[0;34m(\u001b[0m\u001b[0mself\u001b[0m\u001b[0;34m.\u001b[0m\u001b[0mmodel\u001b[0m\u001b[0;34m.\u001b[0m\u001b[0mtax_benefit_system\u001b[0m\u001b[0;34m)\u001b[0m\u001b[0;34m\u001b[0m\u001b[0;34m\u001b[0m\u001b[0m\n\u001b[1;32m    171\u001b[0m \u001b[0;34m\u001b[0m\u001b[0m\n",
      "\u001b[0;32m~/anaconda3/lib/python3.7/site-packages/openfisca_uk/tools/simulation.py\u001b[0m in \u001b[0;36mload_frs\u001b[0;34m(self, frs_data, verbose, change)\u001b[0m\n\u001b[1;32m    251\u001b[0m         \u001b[0msystem\u001b[0m \u001b[0;34m=\u001b[0m \u001b[0mopenfisca_uk\u001b[0m\u001b[0;34m.\u001b[0m\u001b[0mCountryTaxBenefitSystem\u001b[0m\u001b[0;34m(\u001b[0m\u001b[0;34m)\u001b[0m\u001b[0;34m\u001b[0m\u001b[0;34m\u001b[0m\u001b[0m\n\u001b[1;32m    252\u001b[0m         \u001b[0;32mfor\u001b[0m \u001b[0mreform\u001b[0m \u001b[0;32min\u001b[0m \u001b[0mself\u001b[0m\u001b[0;34m.\u001b[0m\u001b[0mreforms\u001b[0m\u001b[0;34m:\u001b[0m\u001b[0;34m\u001b[0m\u001b[0;34m\u001b[0m\u001b[0m\n\u001b[0;32m--> 253\u001b[0;31m             \u001b[0msystem\u001b[0m \u001b[0;34m=\u001b[0m \u001b[0mreform\u001b[0m\u001b[0;34m(\u001b[0m\u001b[0msystem\u001b[0m\u001b[0;34m)\u001b[0m  \u001b[0;31m# apply each reform in order\u001b[0m\u001b[0;34m\u001b[0m\u001b[0;34m\u001b[0m\u001b[0m\n\u001b[0m\u001b[1;32m    254\u001b[0m         \u001b[0mbuilder\u001b[0m \u001b[0;34m=\u001b[0m \u001b[0mSimulationBuilder\u001b[0m\u001b[0;34m(\u001b[0m\u001b[0;34m)\u001b[0m\u001b[0;34m\u001b[0m\u001b[0;34m\u001b[0m\u001b[0m\n\u001b[1;32m    255\u001b[0m         builder.create_entities(\n",
      "\u001b[0;32m~/anaconda3/lib/python3.7/site-packages/openfisca_core/reforms.py\u001b[0m in \u001b[0;36m__init__\u001b[0;34m(self, baseline)\u001b[0m\n\u001b[1;32m     52\u001b[0m         \u001b[0;32mif\u001b[0m \u001b[0;32mnot\u001b[0m \u001b[0mhasattr\u001b[0m\u001b[0;34m(\u001b[0m\u001b[0mself\u001b[0m\u001b[0;34m,\u001b[0m \u001b[0;34m'apply'\u001b[0m\u001b[0;34m)\u001b[0m\u001b[0;34m:\u001b[0m\u001b[0;34m\u001b[0m\u001b[0;34m\u001b[0m\u001b[0m\n\u001b[1;32m     53\u001b[0m             \u001b[0;32mraise\u001b[0m \u001b[0mException\u001b[0m\u001b[0;34m(\u001b[0m\u001b[0;34m\"Reform {} must define an `apply` function\"\u001b[0m\u001b[0;34m.\u001b[0m\u001b[0mformat\u001b[0m\u001b[0;34m(\u001b[0m\u001b[0mself\u001b[0m\u001b[0;34m.\u001b[0m\u001b[0mkey\u001b[0m\u001b[0;34m)\u001b[0m\u001b[0;34m)\u001b[0m\u001b[0;34m\u001b[0m\u001b[0;34m\u001b[0m\u001b[0m\n\u001b[0;32m---> 54\u001b[0;31m         \u001b[0mself\u001b[0m\u001b[0;34m.\u001b[0m\u001b[0mapply\u001b[0m\u001b[0;34m(\u001b[0m\u001b[0;34m)\u001b[0m\u001b[0;34m\u001b[0m\u001b[0;34m\u001b[0m\u001b[0m\n\u001b[0m\u001b[1;32m     55\u001b[0m \u001b[0;34m\u001b[0m\u001b[0m\n\u001b[1;32m     56\u001b[0m     \u001b[0;32mdef\u001b[0m \u001b[0m__getattr__\u001b[0m\u001b[0;34m(\u001b[0m\u001b[0mself\u001b[0m\u001b[0;34m,\u001b[0m \u001b[0mattribute\u001b[0m\u001b[0;34m)\u001b[0m\u001b[0;34m:\u001b[0m\u001b[0;34m\u001b[0m\u001b[0;34m\u001b[0m\u001b[0m\n",
      "\u001b[0;32m~/UBICenter/uk/py/calc_ubi.py\u001b[0m in \u001b[0;36mapply\u001b[0;34m(self)\u001b[0m\n\u001b[1;32m    159\u001b[0m                 \u001b[0mself\u001b[0m\u001b[0;34m.\u001b[0m\u001b[0mupdate_variable\u001b[0m\u001b[0;34m(\u001b[0m\u001b[0mchanged_var\u001b[0m\u001b[0;34m)\u001b[0m\u001b[0;34m\u001b[0m\u001b[0;34m\u001b[0m\u001b[0m\n\u001b[1;32m    160\u001b[0m             \u001b[0;32mfor\u001b[0m \u001b[0madded_var\u001b[0m \u001b[0;32min\u001b[0m \u001b[0;34m[\u001b[0m\u001b[0mbasic_income\u001b[0m\u001b[0;34m]\u001b[0m\u001b[0;34m:\u001b[0m\u001b[0;34m\u001b[0m\u001b[0;34m\u001b[0m\u001b[0m\n\u001b[0;32m--> 161\u001b[0;31m                 \u001b[0mself\u001b[0m\u001b[0;34m.\u001b[0m\u001b[0madd_variable\u001b[0m\u001b[0;34m(\u001b[0m\u001b[0madded_var\u001b[0m\u001b[0;34m)\u001b[0m\u001b[0;34m\u001b[0m\u001b[0;34m\u001b[0m\u001b[0m\n\u001b[0m\u001b[1;32m    162\u001b[0m             \u001b[0;32mfor\u001b[0m \u001b[0mremoved_var\u001b[0m \u001b[0;32min\u001b[0m \u001b[0mCORE_BENEFITS\u001b[0m \u001b[0;34m+\u001b[0m \u001b[0;34m[\u001b[0m\u001b[0;34m\"NI\"\u001b[0m\u001b[0;34m]\u001b[0m\u001b[0;34m:\u001b[0m\u001b[0;34m\u001b[0m\u001b[0;34m\u001b[0m\u001b[0m\n\u001b[1;32m    163\u001b[0m                 \u001b[0mself\u001b[0m\u001b[0;34m.\u001b[0m\u001b[0mneutralize_variable\u001b[0m\u001b[0;34m(\u001b[0m\u001b[0mremoved_var\u001b[0m\u001b[0;34m)\u001b[0m\u001b[0;34m\u001b[0m\u001b[0;34m\u001b[0m\u001b[0m\n",
      "\u001b[0;32m~/anaconda3/lib/python3.7/site-packages/openfisca_core/taxbenefitsystems.py\u001b[0m in \u001b[0;36madd_variable\u001b[0;34m(self, variable)\u001b[0m\n\u001b[1;32m    160\u001b[0m         \u001b[0;34m:\u001b[0m\u001b[0mraises\u001b[0m\u001b[0;34m:\u001b[0m \u001b[0;34m:\u001b[0m\u001b[0many\u001b[0m\u001b[0;34m:\u001b[0m\u001b[0;31m`\u001b[0m\u001b[0mVariableNameConflict\u001b[0m\u001b[0;31m`\u001b[0m \u001b[0;32mif\u001b[0m \u001b[0ma\u001b[0m \u001b[0mvariable\u001b[0m \u001b[0;32mwith\u001b[0m \u001b[0mthe\u001b[0m \u001b[0msame\u001b[0m \u001b[0mname\u001b[0m \u001b[0mhave\u001b[0m \u001b[0mpreviously\u001b[0m \u001b[0mbeen\u001b[0m \u001b[0madded\u001b[0m \u001b[0mto\u001b[0m \u001b[0mthe\u001b[0m \u001b[0mtax\u001b[0m \u001b[0;32mand\u001b[0m \u001b[0mbenefit\u001b[0m \u001b[0msystem\u001b[0m\u001b[0;34m.\u001b[0m\u001b[0;34m\u001b[0m\u001b[0;34m\u001b[0m\u001b[0m\n\u001b[1;32m    161\u001b[0m         \"\"\"\n\u001b[0;32m--> 162\u001b[0;31m         \u001b[0;32mreturn\u001b[0m \u001b[0mself\u001b[0m\u001b[0;34m.\u001b[0m\u001b[0mload_variable\u001b[0m\u001b[0;34m(\u001b[0m\u001b[0mvariable\u001b[0m\u001b[0;34m,\u001b[0m \u001b[0mupdate\u001b[0m \u001b[0;34m=\u001b[0m \u001b[0;32mFalse\u001b[0m\u001b[0;34m)\u001b[0m\u001b[0;34m\u001b[0m\u001b[0;34m\u001b[0m\u001b[0m\n\u001b[0m\u001b[1;32m    163\u001b[0m \u001b[0;34m\u001b[0m\u001b[0m\n\u001b[1;32m    164\u001b[0m     \u001b[0;32mdef\u001b[0m \u001b[0mreplace_variable\u001b[0m\u001b[0;34m(\u001b[0m\u001b[0mself\u001b[0m\u001b[0;34m,\u001b[0m \u001b[0mvariable\u001b[0m\u001b[0;34m)\u001b[0m\u001b[0;34m:\u001b[0m\u001b[0;34m\u001b[0m\u001b[0;34m\u001b[0m\u001b[0m\n",
      "\u001b[0;32m~/anaconda3/lib/python3.7/site-packages/openfisca_core/taxbenefitsystems.py\u001b[0m in \u001b[0;36mload_variable\u001b[0;34m(self, variable_class, update)\u001b[0m\n\u001b[1;32m    147\u001b[0m                 'Variable \"{}\" is already defined. Use `update_variable` to replace it.'.format(name))\n\u001b[1;32m    148\u001b[0m \u001b[0;34m\u001b[0m\u001b[0m\n\u001b[0;32m--> 149\u001b[0;31m         \u001b[0mvariable\u001b[0m \u001b[0;34m=\u001b[0m \u001b[0mvariable_class\u001b[0m\u001b[0;34m(\u001b[0m\u001b[0mbaseline_variable\u001b[0m \u001b[0;34m=\u001b[0m \u001b[0mbaseline_variable\u001b[0m\u001b[0;34m)\u001b[0m\u001b[0;34m\u001b[0m\u001b[0;34m\u001b[0m\u001b[0m\n\u001b[0m\u001b[1;32m    150\u001b[0m         \u001b[0mself\u001b[0m\u001b[0;34m.\u001b[0m\u001b[0mvariables\u001b[0m\u001b[0;34m[\u001b[0m\u001b[0mvariable\u001b[0m\u001b[0;34m.\u001b[0m\u001b[0mname\u001b[0m\u001b[0;34m]\u001b[0m \u001b[0;34m=\u001b[0m \u001b[0mvariable\u001b[0m\u001b[0;34m\u001b[0m\u001b[0;34m\u001b[0m\u001b[0m\n\u001b[1;32m    151\u001b[0m \u001b[0;34m\u001b[0m\u001b[0m\n",
      "\u001b[0;32m~/anaconda3/lib/python3.7/site-packages/openfisca_core/variables.py\u001b[0m in \u001b[0;36m__init__\u001b[0;34m(self, baseline_variable)\u001b[0m\n\u001b[1;32m    185\u001b[0m             raise ValueError(\n\u001b[1;32m    186\u001b[0m                 \u001b[0;34m'Unexpected attributes in definition of variable \"{}\": {!r}'\u001b[0m\u001b[0;34m\u001b[0m\u001b[0;34m\u001b[0m\u001b[0m\n\u001b[0;32m--> 187\u001b[0;31m                 .format(self.name, ', '.join(sorted(unexpected_attrs.keys()))))\n\u001b[0m\u001b[1;32m    188\u001b[0m \u001b[0;34m\u001b[0m\u001b[0m\n\u001b[1;32m    189\u001b[0m         \u001b[0mself\u001b[0m\u001b[0;34m.\u001b[0m\u001b[0mis_neutralized\u001b[0m \u001b[0;34m=\u001b[0m \u001b[0;32mFalse\u001b[0m\u001b[0;34m\u001b[0m\u001b[0;34m\u001b[0m\u001b[0m\n",
      "\u001b[0;31mValueError\u001b[0m: Unexpected attributes in definition of variable \"basic_income\": 'ubi_piece'"
     ]
    }
   ],
   "source": [
    "verbose_reform_1 = optimize(input_dict, 'mean_pct_loss', 'reform_1',\n",
    "                            path=\"~/frs\", verbose=True, maxiter=20, seed=0)"
   ]
  },
  {
   "cell_type": "code",
   "execution_count": 4,
   "metadata": {
    "colab": {
     "base_uri": "https://localhost:8080/"
    },
    "id": "qRSjlPlexKSi",
    "outputId": "29866ff3-68f0-44d7-971b-8030a02cbce0"
   },
   "outputs": [
    {
     "name": "stdout",
     "output_type": "stream",
     "text": [
      "     fun: 0.04514430918332308\n",
      " message: 'Optimization terminated successfully.'\n",
      "    nfev: 2194\n",
      "     nit: 8\n",
      " success: True\n",
      "       x: array([121.87753932, 203.74310054,  67.27751096,   0.        ,\n",
      "         0.        ,   0.        ,   0.        ,   0.        ,\n",
      "         0.        ,   0.        ,   0.        ,   0.        ,\n",
      "         0.        ,   0.        ,   0.        ,   0.        ,\n",
      "         0.        ])\n"
     ]
    }
   ],
   "source": [
    "print (verbose_reform_1)"
   ]
  },
  {
   "cell_type": "code",
   "execution_count": 3,
   "metadata": {
    "colab": {
     "base_uri": "https://localhost:8080/"
    },
    "id": "T0-cLB1PKK5o",
    "outputId": "8d0d68cb-3bea-46f1-a363-52450f677b15"
   },
   "outputs": [
    {
     "name": "stdout",
     "output_type": "stream",
     "text": [
      "Optimal solution:\n",
      " {'adult': 122.06603939026651, 'senior': 200.87838278012745, 'child': 66.80088886294556, 'dis_1': 1.5644792172054878, 'dis_2': 1.2365973378051258, 'dis_3': 39.65273602389124, 'NORTH_EAST': 0.0, 'NORTH_WEST': 0.0, 'YORKSHIRE': 0.0, 'EAST_MIDLANDS': 0.0, 'WEST_MIDLANDS': 0.0, 'EAST_OF_ENGLAND': 0.0, 'LONDON': 0.0, 'SOUTH_EAST': 0.0, 'SOUTH_WEST': 0.0, 'WALES': 0.0, 'SCOTLAND': 0.0}\n"
     ]
    }
   ],
   "source": [
    "reform_2 = optimize(input_dict, 'mean_pct_loss', 'reform_2', verbose=False, maxiter=20, seed=0)"
   ]
  },
  {
   "cell_type": "code",
   "execution_count": 4,
   "metadata": {
    "colab": {
     "base_uri": "https://localhost:8080/"
    },
    "id": "i3JGWZD9UYi0",
    "outputId": "f55ed8fb-6f23-45a4-ce47-1713ad07fce8"
   },
   "outputs": [
    {
     "name": "stdout",
     "output_type": "stream",
     "text": [
      "     fun: 0.045027480245458\n",
      " message: 'Optimization terminated successfully.'\n",
      "    nfev: 2434\n",
      "     nit: 9\n",
      " success: True\n",
      "       x: array([122.06603939, 200.87838278,  66.80088886,   1.56447922,\n",
      "         1.23659734,  39.65273602,   0.        ,   0.        ,\n",
      "         0.        ,   0.        ,   0.        ,   0.        ,\n",
      "         0.        ,   0.        ,   0.        ,   0.        ,\n",
      "         0.        ])\n"
     ]
    }
   ],
   "source": [
    "print (reform_2)"
   ]
  },
  {
   "cell_type": "code",
   "execution_count": 5,
   "metadata": {
    "colab": {
     "base_uri": "https://localhost:8080/"
    },
    "id": "ofIfMhuMUVOy",
    "outputId": "8ff83e5b-0a48-446f-cd6d-3a9c5200ab93"
   },
   "outputs": [
    {
     "name": "stdout",
     "output_type": "stream",
     "text": [
      "Optimal solution:\n",
      " {'adult': 107.46586006137862, 'senior': 179.55312598887403, 'child': 59.59981796395368, 'dis_1': 0.892666744458253, 'dis_2': 18.053700602918322, 'dis_3': 21.89380609909487, 'NORTH_EAST': 29.436381590621355, 'NORTH_WEST': 39.321998056876296, 'YORKSHIRE': 26.650242541122623, 'EAST_MIDLANDS': 36.58720568959427, 'WEST_MIDLANDS': 41.61073486026206, 'EAST_OF_ENGLAND': 29.86393840031898, 'LONDON': 38.225908483321426, 'SOUTH_EAST': 28.156543068502035, 'SOUTH_WEST': 33.27519485557901, 'WALES': 26.807778754327614, 'SCOTLAND': 35.11527740528711, 'NORTHERN_IRELAND': 19.596786720328275}\n"
     ]
    }
   ],
   "source": [
    "reform_3 = optimize(input_dict, 'mean_pct_loss', 'reform_3', verbose=False, maxiter=20, seed=0)"
   ]
  },
  {
   "cell_type": "code",
   "execution_count": 6,
   "metadata": {
    "colab": {
     "base_uri": "https://localhost:8080/"
    },
    "id": "An660nE2Ualk",
    "outputId": "496c6cc4-ebc5-4364-b37e-d717c610dcb6"
   },
   "outputs": [
    {
     "name": "stdout",
     "output_type": "stream",
     "text": [
      "     fun: 0.043346409647196806\n",
      "     jac: array([-2.94139479e-06, -1.64646061e-05,  1.43982048e-05,  9.93649525e-06,\n",
      "        9.11770584e-07, -4.08908984e-06, -8.47238876e-07, -6.37406741e-06,\n",
      "       -1.72292721e-06,  4.51305622e-06, -4.81906142e-06, -6.10622613e-06,\n",
      "       -9.97882250e-06, -6.54268252e-06, -3.00315303e-06, -1.24969469e-06,\n",
      "       -1.46757594e-06])\n",
      " message: 'Optimization terminated successfully.'\n",
      "    nfev: 3606\n",
      "     nit: 13\n",
      " success: True\n",
      "       x: array([107.46586006, 179.55312599,  59.59981796,   0.89266674,\n",
      "        18.0537006 ,  21.8938061 ,  29.43638159,  39.32199806,\n",
      "        26.65024254,  36.58720569,  41.61073486,  29.8639384 ,\n",
      "        38.22590848,  28.15654307,  33.27519486,  26.80777875,\n",
      "        35.11527741,  19.59678672])\n"
     ]
    }
   ],
   "source": [
    "print (reform_3)"
   ]
  },
  {
   "cell_type": "code",
   "execution_count": null,
   "metadata": {
    "id": "g6GKInZqUheZ"
   },
   "outputs": [],
   "source": []
  }
 ],
 "metadata": {
  "colab": {
   "collapsed_sections": [],
   "name": "Reform Level Optimization V3.ipynb",
   "provenance": []
  },
  "kernelspec": {
   "display_name": "Python 3",
   "language": "python",
   "name": "python3"
  },
  "language_info": {
   "codemirror_mode": {
    "name": "ipython",
    "version": 3
   },
   "file_extension": ".py",
   "mimetype": "text/x-python",
   "name": "python",
   "nbconvert_exporter": "python",
   "pygments_lexer": "ipython3",
   "version": "3.7.9"
  }
 },
 "nbformat": 4,
 "nbformat_minor": 1
}
