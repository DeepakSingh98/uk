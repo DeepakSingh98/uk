{
 "cells": [
  {
   "cell_type": "code",
   "execution_count": 1,
   "metadata": {
    "id": "TLKfx4iG98DY"
   },
   "outputs": [],
   "source": [
    "# Required imports.\n",
    "from py import calc_ubi\n",
    "from py.loss_functions import loss_metrics\n",
    "from py.optimize import optimize"
   ]
  },
  {
   "cell_type": "code",
   "execution_count": 2,
   "metadata": {
    "colab": {
     "base_uri": "https://localhost:8080/"
    },
    "id": "IpjEW-rk-C-G",
    "outputId": "a25bcdef-6b01-4139-ad78-695ace3943f3"
   },
   "outputs": [
    {
     "name": "stdout",
     "output_type": "stream",
     "text": [
      "{'senior': (40, 240), 'child': (40, 240), 'dis_1': (0, 40), 'dis_2': (0, 40), 'dis_3': (0, 40), 'NORTH_EAST': (-50, 50), 'NORTH_WEST': (-50, 50), 'YORKSHIRE': (-50, 50), 'EAST_MIDLANDS': (-50, 50), 'WEST_MIDLANDS': (-50, 50), 'EAST_OF_ENGLAND': (-50, 50), 'LONDON': (-50, 50), 'SOUTH_EAST': (-50, 50), 'SOUTH_WEST': (-50, 50), 'WALES': (-50, 50), 'SCOTLAND': (-50, 50), 'NORTHERN_IRELAND': (-50, 50)}\n"
     ]
    }
   ],
   "source": [
    "CATEGORIES = ['senior', 'child', 'dis_1', 'dis_2', 'dis_3',\n",
    "              'NORTH_EAST', 'NORTH_WEST', 'YORKSHIRE', 'EAST_MIDLANDS',\n",
    "              'WEST_MIDLANDS', 'EAST_OF_ENGLAND', 'LONDON', 'SOUTH_EAST',\n",
    "              'SOUTH_WEST', 'WALES', 'SCOTLAND', 'NORTHERN_IRELAND']\n",
    "\n",
    "# Define bounds\n",
    "BASE_LIMITS = (40, 240)  # Child, working-age adult, senior.\n",
    "PWD_LIMITS = (0, 40)  # Base, severe, and enhanced disability UBI supplements.\n",
    "GEO_LIMITS = (-50, 50)  # Will be relative to a baseline geo.\n",
    "# Skip adult which is calculated.\n",
    "limits = [BASE_LIMITS] * 2 + [PWD_LIMITS] * 3 + [GEO_LIMITS] * 12\n",
    "\n",
    "input_dict = {category : limit for category, limit in zip(CATEGORIES, limits)}\n",
    "print (input_dict)"
   ]
  },
  {
   "cell_type": "code",
   "execution_count": null,
   "metadata": {
    "colab": {
     "base_uri": "https://localhost:8080/"
    },
    "id": "US_TgMgmmrRX",
    "outputId": "65fe601b-0015-4b79-8bb5-e47d25af0fb9"
   },
   "outputs": [],
   "source": [
    "reform_1 = optimize(input_dict, 'mean_pct_loss', 'reform_1',\n",
    "                    path=\"~/frs\", verbose=False, maxiter=20, seed=0)"
   ]
  },
  {
   "cell_type": "code",
   "execution_count": null,
   "metadata": {
    "colab": {
     "base_uri": "https://localhost:8080/"
    },
    "id": "qRSjlPlexKSi",
    "outputId": "29866ff3-68f0-44d7-971b-8030a02cbce0"
   },
   "outputs": [],
   "source": [
    "print(reform_1)"
   ]
  },
  {
   "cell_type": "code",
   "execution_count": null,
   "metadata": {
    "colab": {
     "base_uri": "https://localhost:8080/"
    },
    "id": "T0-cLB1PKK5o",
    "outputId": "8d0d68cb-3bea-46f1-a363-52450f677b15"
   },
   "outputs": [],
   "source": [
    "reform_2 = optimize(input_dict, 'mean_pct_loss', 'reform_2', \n",
    "                    path=\"~/frs\", verbose=False, maxiter=20, seed=0)"
   ]
  },
  {
   "cell_type": "code",
   "execution_count": null,
   "metadata": {
    "colab": {
     "base_uri": "https://localhost:8080/"
    },
    "id": "i3JGWZD9UYi0",
    "outputId": "f55ed8fb-6f23-45a4-ce47-1713ad07fce8"
   },
   "outputs": [],
   "source": [
    "print(reform_2)"
   ]
  },
  {
   "cell_type": "code",
   "execution_count": null,
   "metadata": {
    "colab": {
     "base_uri": "https://localhost:8080/"
    },
    "id": "ofIfMhuMUVOy",
    "outputId": "8ff83e5b-0a48-446f-cd6d-3a9c5200ab93"
   },
   "outputs": [],
   "source": [
    "reform_3 = optimize(input_dict, 'mean_pct_loss', 'reform_3', \n",
    "                    path=\"~/frs\", verbose=False, maxiter=20, seed=0)"
   ]
  },
  {
   "cell_type": "code",
   "execution_count": null,
   "metadata": {
    "colab": {
     "base_uri": "https://localhost:8080/"
    },
    "id": "An660nE2Ualk",
    "outputId": "496c6cc4-ebc5-4364-b37e-d717c610dcb6"
   },
   "outputs": [],
   "source": [
    "print(reform_3)"
   ]
  }
 ],
 "metadata": {
  "colab": {
   "collapsed_sections": [],
   "name": "Reform Level Optimization V3.ipynb",
   "provenance": []
  },
  "kernelspec": {
   "display_name": "Python 3",
   "language": "python",
   "name": "python3"
  },
  "language_info": {
   "codemirror_mode": {
    "name": "ipython",
    "version": 3
   },
   "file_extension": ".py",
   "mimetype": "text/x-python",
   "name": "python",
   "nbconvert_exporter": "python",
   "pygments_lexer": "ipython3",
   "version": "3.7.9"
  }
 },
 "nbformat": 4,
 "nbformat_minor": 1
}
